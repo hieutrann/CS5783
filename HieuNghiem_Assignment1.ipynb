{
  "nbformat": 4,
  "nbformat_minor": 0,
  "metadata": {
    "colab": {
      "provenance": [],
      "collapsed_sections": []
    },
    "kernelspec": {
      "name": "python3",
      "display_name": "Python 3"
    },
    "language_info": {
      "name": "python"
    }
  },
  "cells": [
    {
      "cell_type": "markdown",
      "source": [
        "# Hieu Nghiem\n",
        "#### CS5783 Assignment1\n",
        "\n",
        "First, importing the libraries which we will use:"
      ],
      "metadata": {
        "id": "i5S1-WOcevUU"
      }
    },
    {
      "cell_type": "code",
      "execution_count": 2,
      "metadata": {
        "id": "CRd5FouoTfvA"
      },
      "outputs": [],
      "source": [
        "import pandas as pd\n",
        "import matplotlib.pyplot as plt\n",
        "import numpy as np"
      ]
    },
    {
      "cell_type": "markdown",
      "source": [
        "*# QUESTION 1*"
      ],
      "metadata": {
        "id": "nLbWELPeihKB"
      }
    },
    {
      "cell_type": "markdown",
      "source": [
        "Plot training and testing data. \n",
        "\n",
        "The plot below indicates that the relationship between X and Y for both training and testing set is not linear. "
      ],
      "metadata": {
        "id": "oTA53g7hjt7i"
      }
    },
    {
      "cell_type": "code",
      "source": [
        "#load data\n",
        "X = np.load(\"x_train.npy\")\n",
        "Y = np.load(\"y_train.npy\")\n",
        "X_test = np.load(\"x_test.npy\")\n",
        "Y_test = np.load(\"y_test.npy\")\n",
        "\n",
        "plt.rcParams['figure.figsize'] = (8 , 6)\n",
        "plt.scatter(X, Y)\n",
        "plt.title('Training data relationship')\n",
        "plt.show()\n",
        "\n",
        "plt.rcParams['figure.figsize'] = (8 , 6)\n",
        "plt.scatter(X_test, Y_test)\n",
        "plt.title('Testing data relationship')\n",
        "plt.show()"
      ],
      "metadata": {
        "colab": {
          "base_uri": "https://localhost:8080/",
          "height": 763
        },
        "id": "SJE8unS8jPFz",
        "outputId": "d797a3a2-16d7-445e-a432-068db3e2aeed"
      },
      "execution_count": 4,
      "outputs": [
        {
          "output_type": "display_data",
          "data": {
            "text/plain": [
              "<Figure size 576x432 with 1 Axes>"
            ],
            "image/png": "[encoded data removed]"
          },
          "metadata": {
            "needs_background": "light"
          }
        },
        {
          "output_type": "display_data",
          "data": {
            "text/plain": [
              "<Figure size 576x432 with 1 Axes>"
            ],
            "image/png": "[encoded data removed]"
          },
          "metadata": {
            "needs_background": "light"
          }
        }
      ]
    },
    {
      "cell_type": "markdown",
      "source": [
        "Now we will try to implement a linear regression model. For this step, I will: \n",
        "\n",
        "- Define cost function - using formula on P16 Lecture 3. This function will return the cost and the prediction error for every theta\n",
        "\n",
        "- Define gradient descent function - using update rule on P23 Lecture 3. This function will return theta after every iteration\n",
        "\n",
        "- Define prediction function - simply return y_predicted with values of x and theta\n"
      ],
      "metadata": {
        "id": "G6SMNfenfTmB"
      }
    },
    {
      "cell_type": "code",
      "source": [
        "def cost_function(x,y,t):\n",
        "    cost = np.dot(np.dot(x, t.T) - y, np.dot(x, t.T) - y) * (1/2)\n",
        "    error = np.dot(x, t.T) - y\n",
        "    return cost, error\n",
        "\n",
        "def gradient_descent(x,y,t,a, iteration):\n",
        "    for i in range(iteration):\n",
        "        c, e = cost_function(x, y, t)\n",
        "        t = t - (a  * np.dot(x.T, e))\n",
        "    return t\n",
        "\n",
        "def prediction(x,t):\n",
        "    y_predicted = np.dot(x, t.T)\n",
        "    return y_predicted\n"
      ],
      "metadata": {
        "id": "uIki4nwET-U4"
      },
      "execution_count": 5,
      "outputs": []
    },
    {
      "cell_type": "markdown",
      "source": [
        "IMPLEMENTATION AND PERFORM PREDICTION\n",
        "\n",
        "For running code with different basis function, please de-comment / comment the code block ##BASIS FUNCTION (which has 6 line of code) as below:\n",
        "- If use X (simple model): use line 1 and 4, comment on line 2 3 5 6\n",
        "- If use X^2: use line 2 and 5, comment on line 1 3 4 6\n",
        "- If use X^3: use line 3 and 6, comment on line 1 2 4 5"
      ],
      "metadata": {
        "id": "LZtveJRwldPG"
      }
    },
    {
      "cell_type": "code",
      "source": [
        "#Convert to dataframe and add basis function feature\n",
        "X = pd.DataFrame(X, columns=['x'] )\n",
        "Y = pd.DataFrame(Y, columns=['y'])['y']\n",
        "X['x^2'] = X['x'] * X['x']\n",
        "X['x^3'] = X['x'] * X['x'] * X['x']\n",
        "X_test = pd.DataFrame(X_test, columns=['x'] )\n",
        "Y_test = pd.DataFrame(Y_test, columns=['y'])['y']\n",
        "X_test['x^2'] = X_test['x'] * X_test['x']\n",
        "X_test['x^3'] = X_test['x'] * X_test['x'] * X_test['x']\n",
        "\n",
        "##BASIS FUNCTION (line 1 to 6)\n",
        "X = X[['x']]\n",
        "# X = X[['x', 'x^2']]\n",
        "# X = X[['x', 'x^2', 'x^3']]\n",
        "X_test = X_test[['x']]\n",
        "# X_test = X_test[['x', 'x^2']]\n",
        "# X_test = X_test[['x', 'x^2', 'x^3']]\n",
        "\n",
        "#Normalization by subtracting mean and divided by standard deviation\n",
        "X = (X - X.mean()) / X.std()\n",
        "X_test = (X_test - X_test.mean()) / X_test.std()\n",
        "\n",
        "#add 1 more column for bias value\n",
        "X = np.c_[np.ones(X.shape[0]), X] \n",
        "X_test = np.c_[np.ones(X_test.shape[0]), X_test] \n",
        "\n",
        "#parameter of the model:\n",
        "a = 0.001\n",
        "data_size = Y.size\n",
        "#iteration\n",
        "iteration = 1000\n",
        "#theta\n",
        "t = np.zeros(X.shape[1])\n",
        "\n",
        "#Run gradient descent and cost function to find final theta and cost\n",
        "t = gradient_descent(X, Y, t, a, iteration)\n",
        "finalCost, error = cost_function(X, Y, t)\n",
        "print('Final theta value:', t)\n",
        "print('Prediction error (mean square error):', finalCost*2/data_size)\n",
        "\n",
        "#Prediction on test data\n",
        "Y_prediction = prediction(X_test,t)\n",
        "\n",
        "#Reload dataset to plot\n",
        "X = np.load(\"x_train.npy\")\n",
        "y = np.load(\"y_train.npy\")\n",
        "X_test = np.load(\"x_test.npy\")\n",
        "Y_test = np.load(\"y_test.npy\")\n",
        "\n",
        "#Plotting the model\n",
        "plt.rcParams['figure.figsize'] = (10, 8)\n",
        "plt.title('Simple Linear Regression model')\n",
        "plt.scatter(X,Y, color='red')\n",
        "plt.scatter(X_test, Y_prediction, ls='-', color='blue')\n",
        "plt.scatter(X_test,Y_test, color='green')\n",
        "plt.xlabel('X')\n",
        "plt.ylabel('Y')\n",
        "plt.show()\n"
      ],
      "metadata": {
        "colab": {
          "base_uri": "https://localhost:8080/",
          "height": 548
        },
        "id": "kOJ7vWJhUS4e",
        "outputId": "c5df7044-0df2-42c7-eb4f-dba0b099533b"
      },
      "execution_count": 7,
      "outputs": [
        {
          "output_type": "stream",
          "name": "stdout",
          "text": [
            "Final theta value: [5.60573724 5.69078248]\n",
            "Prediction error (mean square error): 169.33472639737593\n"
          ]
        },
        {
          "output_type": "display_data",
          "data": {
            "text/plain": [
              "<Figure size 720x576 with 1 Axes>"
            ],
            "image/png": "[encoded data removed]"
          },
          "metadata": {
            "needs_background": "light"
          }
        }
      ]
    },
    {
      "cell_type": "markdown",
      "source": [
        "*# QUESTION 2*"
      ],
      "metadata": {
        "id": "xC4Hvsr3pVH3"
      }
    },
    {
      "cell_type": "markdown",
      "source": [
        "Use simple model in Q1:"
      ],
      "metadata": {
        "id": "THHwfhHXzeIZ"
      }
    },
    {
      "cell_type": "code",
      "source": [
        "data = pd.read_csv('Assignment1_Q2_Data.csv')\n",
        "#data X contain all feature for train\n",
        "X = data[['Local Price', 'Bathrooms', 'Land Area', 'Living area',\n",
        "       '# Garages', '# Rooms', '# Bedrooms', 'Age of home',\n",
        "       'Construction type', 'Architecture type', '# Fire places']]\n",
        "\n",
        "#Normalization by subtracting mean and divided by standard deviation\n",
        "X = (X - X.mean()) / X.std()\n",
        "#add 1 more column for bias value\n",
        "X = np.c_[np.ones(X.shape[0]), X] \n",
        "#data y\n",
        "y = data['Price (1000$)']\n",
        "\n",
        "#parameter of the model:\n",
        "a = 0.001\n",
        "data_size = y.size\n",
        "#iteration\n",
        "iteration = 1000\n",
        "#theta\n",
        "t = np.zeros(X.shape[1])\n",
        "\n",
        "#Run gradient descent and cost function to find final theta and cost\n",
        "t = gradient_descent(X, y, t, a, iteration)\n",
        "finalCost, error = cost_function(X, y, t)\n",
        "print('Final theta value:', t)\n",
        "print('Prediction error (mean square error):', finalCost*2/data_size)\n",
        "\n",
        "#Plotting for comparison between y and predict_y\n",
        "predict_y = prediction(X,t)\n",
        "plt.plot(y, color='blue')\n",
        "plt.plot(predict_y, color='green')\n",
        "plt.xlabel('Data points')\n",
        "plt.ylabel('Prediction value')\n",
        "plt.show()"
      ],
      "metadata": {
        "colab": {
          "base_uri": "https://localhost:8080/",
          "height": 549
        },
        "id": "eKl_zesFpaS1",
        "outputId": "b8c68904-5c86-4056-ef33-f3b6565e5092"
      },
      "execution_count": 8,
      "outputs": [
        {
          "output_type": "stream",
          "name": "stdout",
          "text": [
            "Final theta value: [38.15714286  2.60936371  4.18877713  0.50473755  6.69492157  1.15834822\n",
            " -0.89176102 -0.34147193 -0.9178142   1.21154324  0.80110827  1.22174215]\n",
            "Prediction error (mean square error): 9.352750812533968\n"
          ]
        },
        {
          "output_type": "display_data",
          "data": {
            "text/plain": [
              "<Figure size 720x576 with 1 Axes>"
            ],
            "image/png": "[encoded data removed]"
          },
          "metadata": {
            "needs_background": "light"
          }
        }
      ]
    },
    {
      "cell_type": "markdown",
      "source": [
        "Find correlation between X and predict_Y and Y to see what are the most important features and least important features"
      ],
      "metadata": {
        "id": "zVU0PD7fzjoZ"
      }
    },
    {
      "cell_type": "code",
      "source": [
        "feature_list = ['Local Price', 'Bathrooms', 'Land Area', 'Living area',\n",
        "       '# Garages', '# Rooms', '# Bedrooms', 'Age of home',\n",
        "       'Construction type', 'Architecture type', '# Fire places']\n",
        "X = data[['Local Price', 'Bathrooms', 'Land Area', 'Living area',\n",
        "       '# Garages', '# Rooms', '# Bedrooms', 'Age of home',\n",
        "       'Construction type', 'Architecture type', '# Fire places']]\n",
        "\n",
        "predict_y = pd.DataFrame(predict_y, columns=['y'])['y']\n",
        "for f in feature_list:\n",
        "    print('Correlation between predict_y and', f,  predict_y.corr(X[f], method='kendall'))\n",
        "\n",
        "\n",
        "print('\\n')\n",
        "\n",
        "\n",
        "for f in feature_list:\n",
        "    print('correlation between y and', f,  y.corr(X[f], method='kendall'))"
      ],
      "metadata": {
        "id": "7_ct7vKQqDIU",
        "colab": {
          "base_uri": "https://localhost:8080/"
        },
        "outputId": "50cf73ed-6d8b-4920-efd2-326dcac6c651"
      },
      "execution_count": 9,
      "outputs": [
        {
          "output_type": "stream",
          "name": "stdout",
          "text": [
            "Correlation between predict_y and Local Price 0.7506631299734747\n",
            "Correlation between predict_y and Bathrooms 0.7230169050866526\n",
            "Correlation between predict_y and Land Area 0.49534349948783823\n",
            "Correlation between predict_y and Living area 0.7101088944026925\n",
            "Correlation between predict_y and # Garages 0.4136395257687919\n",
            "Correlation between predict_y and # Rooms 0.5093687109152628\n",
            "Correlation between predict_y and # Bedrooms 0.4428119602683544\n",
            "Correlation between predict_y and Age of home -0.25139634595843136\n",
            "Correlation between predict_y and Construction type 0.03994105363369855\n",
            "Correlation between predict_y and Architecture type -0.020601048104984192\n",
            "Correlation between predict_y and # Fire places 0.3741578617526924\n",
            "\n",
            "\n",
            "correlation between y and Local Price 0.7583613569718661\n",
            "correlation between y and Bathrooms 0.680784170118376\n",
            "correlation between y and Land Area 0.487937410382764\n",
            "correlation between y and Living area 0.49264118839353266\n",
            "correlation between y and # Garages 0.4324258551098054\n",
            "correlation between y and # Rooms 0.4267862228519455\n",
            "correlation between y and # Bedrooms 0.3091685533418898\n",
            "correlation between y and Age of home -0.3047847549545271\n",
            "correlation between y and Construction type 0.05258044913676442\n",
            "correlation between y and Architecture type 0.08814089405208615\n",
            "correlation between y and # Fire places 0.4044181578593355\n"
          ]
        }
      ]
    },
    {
      "cell_type": "markdown",
      "source": [
        "Model with Local Price and Bathrooms"
      ],
      "metadata": {
        "id": "s3h8QRDj1i_O"
      }
    },
    {
      "cell_type": "code",
      "source": [
        "X = data[['Local Price', 'Bathrooms']]\n",
        "\n",
        "#Normalization by subtracting mean and divided by standard deviation\n",
        "X = (X - X.mean()) / X.std()\n",
        "#add 1 more column for bias value\n",
        "X = np.c_[np.ones(X.shape[0]), X] \n",
        "#data y\n",
        "y = data['Price (1000$)']\n",
        "\n",
        "#parameter of the model:\n",
        "a = 0.001\n",
        "data_size = y.size\n",
        "#iteration\n",
        "iteration = 1000\n",
        "#theta\n",
        "t = np.zeros(X.shape[1])\n",
        "\n",
        "#Run gradient descent and cost function to find final theta and cost\n",
        "t = gradient_descent(X, y, t, a, iteration)\n",
        "finalCost, error = cost_function(X, y, t)\n",
        "print('Final theta value:', t)\n",
        "print('Prediction error (mean square error):', finalCost*2/data_size)"
      ],
      "metadata": {
        "colab": {
          "base_uri": "https://localhost:8080/"
        },
        "id": "tn-VV9A-1miq",
        "outputId": "3626ba5f-12ea-453e-e803-3ea0a5d0bb0d"
      },
      "execution_count": 10,
      "outputs": [
        {
          "output_type": "stream",
          "name": "stdout",
          "text": [
            "Final theta value: [38.15714286  6.84236895  7.06409294]\n",
            "Prediction error (mean square error): 17.82024292906855\n"
          ]
        }
      ]
    },
    {
      "cell_type": "markdown",
      "source": [
        "Model with Construction type and Architecture type removed"
      ],
      "metadata": {
        "id": "tbaBVVK92sye"
      }
    },
    {
      "cell_type": "code",
      "source": [
        "X = data[['Local Price', 'Bathrooms', 'Land Area', 'Living area',\n",
        "       '# Garages', '# Rooms', '# Bedrooms', 'Age of home',\n",
        "       '# Fire places']]\n",
        "\n",
        "#Normalization by subtracting mean and divided by standard deviation\n",
        "X = (X - X.mean()) / X.std()\n",
        "#add 1 more column for bias value\n",
        "X = np.c_[np.ones(X.shape[0]), X] \n",
        "#data y\n",
        "y = data['Price (1000$)']\n",
        "\n",
        "#parameter of the model:\n",
        "a = 0.001\n",
        "data_size = y.size\n",
        "#iteration\n",
        "iteration = 1000\n",
        "#theta\n",
        "t = np.zeros(X.shape[1])\n",
        "\n",
        "#Run gradient descent and cost function to find final theta and cost\n",
        "t = gradient_descent(X, y, t, a, iteration)\n",
        "finalCost, error = cost_function(X, y, t)\n",
        "print('Final theta value:', t)\n",
        "print('Prediction error (mean square error):', finalCost*2/data_size)"
      ],
      "metadata": {
        "colab": {
          "base_uri": "https://localhost:8080/"
        },
        "id": "AD1rkzdT1aGJ",
        "outputId": "6bbbbd08-d9ef-47a8-dc51-de3e991a881a"
      },
      "execution_count": 11,
      "outputs": [
        {
          "output_type": "stream",
          "name": "stdout",
          "text": [
            "Final theta value: [38.15714286  3.58987729  3.82409656  0.22903811  6.45282679  1.07998927\n",
            " -0.39679781 -0.78556299 -0.94276587  0.9789259 ]\n",
            "Prediction error (mean square error): 10.819509639599946\n"
          ]
        }
      ]
    },
    {
      "cell_type": "markdown",
      "source": [
        "*QUESTION 3*"
      ],
      "metadata": {
        "id": "GNalSplOsUbw"
      }
    },
    {
      "cell_type": "code",
      "source": [
        "# Calculate weight diagonal Matrix W used in calculation of predictions\n",
        "def get_WeightMatrix(query_point, training_examples, Bandwidth):\n",
        "# M is the No of training examples\n",
        "  M = training_examples.shape[0]\n",
        "# Initializing W as an identity matrix\n",
        "  W = np.mat(np.eye(M))\n",
        "# calculating element of diagonal in W\n",
        "  for i in range(M):\n",
        "    xi = training_examples[i]\n",
        "    denominator = (-2 * Bandwidth * Bandwidth)\n",
        "    W[i, i] = np.exp(np.dot((xi-query_point), (xi-query_point).T)/denominator)\n",
        "    return W\n"
      ],
      "metadata": {
        "id": "RGPl6a0VsYNL"
      },
      "execution_count": 17,
      "outputs": []
    },
    {
      "cell_type": "code",
      "source": [
        "# function to make predictions\n",
        "def predict(training_examples, Y, query_x, Bandwidth):\n",
        "  M = training_examples.shape[0]\n",
        "  all_ones = np.ones((M, 1))\n",
        "  X_ = np.hstack((training_examples, all_ones))\n",
        "  qx = np.mat([query_x, 1])\n",
        "  W = get_WeightMatrix(qx, X_, Bandwidth)\n",
        "  # calculating parameter theta\n",
        "  theta = np.linalg.pinv(X_.T*(W * X_))*(X_.T*(W * Y))\n",
        "  # calculating predictions\n",
        "  pred = np.dot(qx, theta)\n",
        "  return theta, pred\n"
      ],
      "metadata": {
        "id": "bllxZ4WVIsPg"
      },
      "execution_count": 18,
      "outputs": []
    },
    {
      "cell_type": "code",
      "source": [
        "A = np.load(\"x_train.npy\")\n",
        "B = np.load(\"y_train.npy\")\n",
        "A_test = np.load(\"x_test.npy\")\n",
        "B_test = np.load(\"y_test.npy\")\n",
        "\n",
        "B = np.reshape(B,(B.size,1))\n",
        "A_test = np.squeeze(A_test)\n",
        "\n",
        "\n",
        "#Prediction with test dataset\n",
        "Bandwidth = 0.1\n",
        "Y_test = []\n",
        "for query in A_test:\n",
        "  theta, pred = predict(A, B, query, Bandwidth)\n",
        "  Y_test.append(pred[0][0])\n",
        "\n",
        "#Plotting\n",
        "\n",
        "plt.rcParams['figure.figsize'] = (10 , 8)\n",
        "plt.title(\"Tau / Bandwidth Parameter = %.2f\" %Bandwidth)\n",
        "plt.scatter(np.array(A), np.array(B), color = 'blue')\n",
        "Y_test = np.array(Y_test)\n",
        "plt.scatter(A_test, Y_test, color ='red')\n",
        "plt.scatter(A_test, B_test, color ='green')\n",
        "plt.show()\n"
      ],
      "metadata": {
        "colab": {
          "base_uri": "https://localhost:8080/",
          "height": 499
        },
        "id": "kxxheeeJKl8H",
        "outputId": "bcf6d792-e024-4ed2-9147-75d2de874859"
      },
      "execution_count": 26,
      "outputs": [
        {
          "output_type": "display_data",
          "data": {
            "text/plain": [
              "<Figure size 720x576 with 1 Axes>"
            ],
            "image/png": "[encoded data removed]"
          },
          "metadata": {
            "needs_background": "light"
          }
        }
      ]
    }
  ]
}